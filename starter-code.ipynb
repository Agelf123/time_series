{
 "cells": [
  {
   "cell_type": "markdown",
   "metadata": {},
   "source": [
    "<img src=\"http://imgur.com/1ZcRyrc.png\" style=\"float: left; margin: 20px; height: 55px\">\n",
    "\n",
    "# ARIMA Lab  \n",
    "\n",
    "\n",
    "</br>  \n",
    "</br>  \n",
    "*Authors:*\n",
    " - Joseph Nelson (DC)      \n",
    " - Boom Devahastin Na Ayudhya  (NYC)   \n",
    " - Bethany Poulin (Boston) \n",
    "\n",
    "\n",
    "\n",
    "---"
   ]
  },
  {
   "cell_type": "markdown",
   "metadata": {},
   "source": [
    "## Introduction\n",
    "\n",
    "\n",
    "The most common application for AR, ARMA, and ARIMA models is inventory planning. Planning inventory for a small shop can be difficult enough, but you've just been hired to plan inventory for a _big_ store - Walmart.\n",
    "\n",
    "In this lab, you will be analyzing weekly Walmart sales data over a two year period from 2010 to 2012. The data is separated by store and by department, but you should focus on analyzing one store for simplicity. Your supervisor has set out the following goals for this project:\n",
    "\n",
    "1. Record any observed trends in the data.\n",
    "2. Produce a trained model to predict future sales numbers.\n",
    "3. Include useful AND COMMENT ON how graphs (ACF, PACF) impact your modelling decisions throughout your notebook.\n",
    "\n",
    "Try your best to tune your model. It can be difficult, but don't worry - time series analysis is a difficult and specialized topic.\n",
    "\n",
    "## Exercise\n",
    "---\n",
    "\n",
    "#### Requirements\n",
    "\n",
    "- Assemble observations and graphs as well as timeseries models in a notebook.\n",
    "\n",
    "\n",
    "#### Additional Resources\n",
    "\n",
    "1. [ARMA Example](https://www.statsmodels.org/dev/examples/notebooks/generated/tsa_arma_0.html)\n",
    "2. [ARMA Models for TSA](https://www.quantstart.com/articles/Autoregressive-Moving-Average-ARMA-p-q-Models-for-Time-Series-Analysis-Part-1)\n",
    "\n",
    "#### Things to Consider\n",
    "\n",
    "You should always be looking for ways to reduce redundancy in your code, improve consistency in your output, and make it easier for others to follow your work! Functions are a huge part of this endeavor!\n",
    "\n",
    "While working on this lab, you may try a number of $p$, $q$, and $d$ values to best account for your data. Because you will likely be repeating yourself, it is useful to create functions that declutter your workspace.\n",
    "\n",
    " - You may want to create a wrapper around the Augmented Dickey-Fuller test to provide both results and context for the output.\n",
    " - You may find value in a combined ACF & PACF function.\n",
    " - You may find it cleaner to build a function to make residual graphs and print out MSE all at once."
   ]
  },
  {
   "cell_type": "markdown",
   "metadata": {},
   "source": [
    "### Importing Necessary Libraries & Loading Data"
   ]
  },
  {
   "cell_type": "code",
   "execution_count": 49,
   "metadata": {},
   "outputs": [
    {
     "data": {
      "text/html": [
       "<div>\n",
       "<style scoped>\n",
       "    .dataframe tbody tr th:only-of-type {\n",
       "        vertical-align: middle;\n",
       "    }\n",
       "\n",
       "    .dataframe tbody tr th {\n",
       "        vertical-align: top;\n",
       "    }\n",
       "\n",
       "    .dataframe thead th {\n",
       "        text-align: right;\n",
       "    }\n",
       "</style>\n",
       "<table border=\"1\" class=\"dataframe\">\n",
       "  <thead>\n",
       "    <tr style=\"text-align: right;\">\n",
       "      <th></th>\n",
       "      <th>Store</th>\n",
       "      <th>Dept</th>\n",
       "      <th>Weekly_Sales</th>\n",
       "      <th>IsHoliday</th>\n",
       "    </tr>\n",
       "    <tr>\n",
       "      <th>Date</th>\n",
       "      <th></th>\n",
       "      <th></th>\n",
       "      <th></th>\n",
       "      <th></th>\n",
       "    </tr>\n",
       "  </thead>\n",
       "  <tbody>\n",
       "    <tr>\n",
       "      <th>2010-02-05</th>\n",
       "      <td>1</td>\n",
       "      <td>1</td>\n",
       "      <td>24924.50</td>\n",
       "      <td>False</td>\n",
       "    </tr>\n",
       "    <tr>\n",
       "      <th>2010-02-12</th>\n",
       "      <td>1</td>\n",
       "      <td>1</td>\n",
       "      <td>46039.49</td>\n",
       "      <td>True</td>\n",
       "    </tr>\n",
       "    <tr>\n",
       "      <th>2010-02-19</th>\n",
       "      <td>1</td>\n",
       "      <td>1</td>\n",
       "      <td>41595.55</td>\n",
       "      <td>False</td>\n",
       "    </tr>\n",
       "    <tr>\n",
       "      <th>2010-02-26</th>\n",
       "      <td>1</td>\n",
       "      <td>1</td>\n",
       "      <td>19403.54</td>\n",
       "      <td>False</td>\n",
       "    </tr>\n",
       "    <tr>\n",
       "      <th>2010-03-05</th>\n",
       "      <td>1</td>\n",
       "      <td>1</td>\n",
       "      <td>21827.90</td>\n",
       "      <td>False</td>\n",
       "    </tr>\n",
       "  </tbody>\n",
       "</table>\n",
       "</div>"
      ],
      "text/plain": [
       "            Store  Dept  Weekly_Sales  IsHoliday\n",
       "Date                                            \n",
       "2010-02-05      1     1      24924.50      False\n",
       "2010-02-12      1     1      46039.49       True\n",
       "2010-02-19      1     1      41595.55      False\n",
       "2010-02-26      1     1      19403.54      False\n",
       "2010-03-05      1     1      21827.90      False"
      ]
     },
     "execution_count": 49,
     "metadata": {},
     "output_type": "execute_result"
    }
   ],
   "source": [
    "import pandas as pd\n",
    "import numpy as np\n",
    "import matplotlib.pyplot as plt\n",
    "import seaborn as sns\n",
    "from statsmodels.graphics.tsaplots import plot_acf,plot_pacf\n",
    "from statsmodels.tsa.arima_model import ARIMA, ARMA\n",
    "from statsmodels.tsa.ar_model import AR\n",
    "from sklearn.metrics import mean_absolute_error\n",
    "from statsmodels.tsa.stattools import adfuller  \n",
    "from sklearn.model_selection import train_test_split\n",
    "import statsmodels.api as sm\n",
    "from statsmodels.tsa.stattools import adfuller\n",
    "from statsmodels.tools.eval_measures import aic\n",
    "import itertools\n",
    "%matplotlib inline\n",
    "from sklearn.metrics import  mean_squared_error\n",
    "import warnings\n",
    "warnings.simplefilter(action=\"ignore\")\n",
    "\n",
    "data = pd.read_csv('./datasets/train.csv')\n",
    "data.set_index('Date', inplace=True)\n",
    "data.index = pd.to_datetime(data.index, format='%Y/%m/%d')\n",
    "\n",
    "data.head()"
   ]
  },
  {
   "cell_type": "markdown",
   "metadata": {},
   "source": [
    "## Exploratory Analysis"
   ]
  },
  {
   "cell_type": "markdown",
   "metadata": {},
   "source": [
    "#### 0. Preprocessing Data\n",
    "It's always a good idea to evaluate the current state of your data. For every set of data this means something different. But the bare minimum is understanding what types of data you have, knowing if there are missing values and checking to be sure that your date column (or index) is in a proper date format.\n",
    "\n",
    "Accordingly you should check:\n",
    " - Format of date column/index\n",
    " - Data types for each column\n",
    " - Whether or not we will have to deal with missing data"
   ]
  },
  {
   "cell_type": "markdown",
   "metadata": {},
   "source": [
    "#### 1. Extracting Data to Model\n",
    "\n",
    "Our data set has a number of stores, each with weekly sales volumes for many departments. \n",
    "\n",
    "To facilitate our first time series model, we need to use a single store, and aggregate the total sales for all departments.\n",
    "\n",
    "**Aggregate all of the sales for STORE 1 into a new dataframe called `Weekly_Sales`.**\n"
   ]
  },
  {
   "cell_type": "code",
   "execution_count": 2,
   "metadata": {},
   "outputs": [],
   "source": [
    "Weekly_Sales = data[data['Store']==1].copy()\n",
    "Weekly_Sales = Weekly_Sales.resample('W').sum()"
   ]
  },
  {
   "cell_type": "markdown",
   "metadata": {},
   "source": [
    "#### 2. Plotting & Interpreting Time Series\n",
    "\n",
    "Plots are a central part of all time series analysis. You should always start with a basic line plot.\n",
    "\n",
    "**2a. Generate a line plot for `Weekly_Sales` with time on the $x$-axis.**"
   ]
  },
  {
   "cell_type": "code",
   "execution_count": 3,
   "metadata": {},
   "outputs": [
    {
     "data": {
      "text/plain": [
       "Text(0.5, 0, 'time')"
      ]
     },
     "execution_count": 3,
     "metadata": {},
     "output_type": "execute_result"
    },
    {
     "data": {
      "image/png": "[encoded data removed]",
      "text/plain": [
       "<Figure size 432x288 with 1 Axes>"
      ]
     },
     "metadata": {
      "needs_background": "light"
     },
     "output_type": "display_data"
    }
   ],
   "source": [
    "Weekly_Sales.plot()\n",
    "plt.xlabel('time')"
   ]
  },
  {
   "cell_type": "markdown",
   "metadata": {},
   "source": [
    "Smoothing can help us see trends in the data. With time series, this frequently means plotting a rolling mean.\n",
    "\n",
    "You might start looking at a one week roll, but you consider several 'windows' of time. \n",
    " - What would a four week rolling mean look like? \n",
    " - How about quarterly? \n",
    " - Or annually? \n",
    "\n",
    "**2b. Calculate the rolling mean(s) for `Weekly_Sales` then plot them on a single set of axes.**"
   ]
  },
  {
   "cell_type": "code",
   "execution_count": 4,
   "metadata": {},
   "outputs": [
    {
     "data": {
      "text/plain": [
       "<matplotlib.axes._subplots.AxesSubplot at 0x12be90890>"
      ]
     },
     "execution_count": 4,
     "metadata": {},
     "output_type": "execute_result"
    },
    {
     "data": {
      "image/png": "[encoded data removed]",
      "text/plain": [
       "<Figure size 432x288 with 1 Axes>"
      ]
     },
     "metadata": {
      "needs_background": "light"
     },
     "output_type": "display_data"
    }
   ],
   "source": [
    "ax_delays = Weekly_Sales['Weekly_Sales'].plot(x_compat=True, color=['y'])\n",
    "Weekly_Sales['Weekly_Sales'].rolling(4).mean().plot(color=['r'], ax=ax_delays, legend=0) \n",
    "Weekly_Sales['Weekly_Sales'].rolling(14).mean().plot(color=['b'], ax=ax_delays, legend=1) \n",
    "Weekly_Sales['Weekly_Sales'].rolling(52).mean().plot(color=['g'], ax=ax_delays, legend=2) \n"
   ]
  },
  {
   "cell_type": "markdown",
   "metadata": {},
   "source": [
    "**2c. What can you say about trends in the data based on the rolling mean plot above?**"
   ]
  },
  {
   "cell_type": "markdown",
   "metadata": {},
   "source": [
    "The yearly rolling mean standardizes the fluctutations the most. The more rolling avergage we put in it, the more we achieve more conformity to a trend and less wild fluctuations."
   ]
  },
  {
   "cell_type": "markdown",
   "metadata": {},
   "source": [
    "#### 3. Autocorrelations\n",
    "\n",
    "We've learned about autocorrelation: the influence a serial observation has on the observations which follow.\n",
    "\n",
    "Calculate autocorrelation in your `Weekly_Sales` data so that you can answer the question: 'How does autocorrelation differ as lag-weeks vary?'\n",
    "\n",
    "**3a. Check at least three lag intervals (but feel free to explore others):**\n",
    " - **1 week**\n",
    " - **2 weeks**\n",
    " - **1 year (52 weeks)**"
   ]
  },
  {
   "cell_type": "code",
   "execution_count": 5,
   "metadata": {},
   "outputs": [],
   "source": [
    "Weekly_Sales['lag_week']= Weekly_Sales['Weekly_Sales'].shift(1)\n",
    "Weekly_Sales['lag_2_weeks'] = Weekly_Sales['Weekly_Sales'].shift(2)\n",
    "Weekly_Sales['lag_year'] = Weekly_Sales['Weekly_Sales'].shift(52)"
   ]
  },
  {
   "cell_type": "markdown",
   "metadata": {},
   "source": [
    "**3b. What can you say about the series based on these autocorrelations?**"
   ]
  },
  {
   "cell_type": "markdown",
   "metadata": {},
   "source": [
    "The data will standardize into a trend over time"
   ]
  },
  {
   "cell_type": "markdown",
   "metadata": {},
   "source": [
    "**3c. Plotting ACF and PCF**\n",
    "As we learned in lecture, plotting the `Autocorrelation Function` and `Partial Autocorrelation Functions` can be useful in understanding seasonality in time series data.\n",
    "\n",
    "Make a 52-week `ACF` and 52-week `PACF` plot now."
   ]
  },
  {
   "cell_type": "code",
   "execution_count": 6,
   "metadata": {},
   "outputs": [
    {
     "data": {
      "image/png": "[encoded data removed]",
      "text/plain": [
       "<Figure size 432x288 with 1 Axes>"
      ]
     },
     "metadata": {
      "needs_background": "light"
     },
     "output_type": "display_data"
    }
   ],
   "source": [
    "plot_acf(Weekly_Sales['Weekly_Sales'],lags = 52);"
   ]
  },
  {
   "cell_type": "code",
   "execution_count": 7,
   "metadata": {},
   "outputs": [
    {
     "data": {
      "image/png": "[encoded data removed]",
      "text/plain": [
       "<Figure size 432x288 with 1 Axes>"
      ]
     },
     "metadata": {
      "needs_background": "light"
     },
     "output_type": "display_data"
    }
   ],
   "source": [
    "plot_pacf(Weekly_Sales['Weekly_Sales'],lags = 52);"
   ]
  },
  {
   "cell_type": "markdown",
   "metadata": {},
   "source": [
    "#### 4. Interpreting the `ACF` and `PACF` Plots\n",
    "\n",
    "**4a. What do the ACF and PACF graphs tell you about your sales data?**"
   ]
  },
  {
   "cell_type": "markdown",
   "metadata": {},
   "source": [
    "ACF = Correlation is large in the beginning and gets smaller so there exists a trend among the data.\n",
    "PACF  = We have a lot of seasonality in the data. There exists seasonality and a clear trend as a large amount of lags are statistically significant. \n",
    "\n",
    "Yearly and monthly seasonality."
   ]
  },
  {
   "cell_type": "markdown",
   "metadata": {},
   "source": [
    "**4b. How do the `ACF` and `PACF` inform your model selections moving forward?**"
   ]
  },
  {
   "cell_type": "markdown",
   "metadata": {},
   "source": [
    "We need to use ARIMA with a chosen p,d,q. We need to control for seasonality, and find the diff, lag in order to create an accurate model. "
   ]
  },
  {
   "cell_type": "markdown",
   "metadata": {},
   "source": [
    "## Modeling\n",
    "\n",
    "**5. Train/Test Split**  \n",
    "\n",
    "Modeling with time series data presents unique challenges because our observations are not independent of one another. \n",
    "\n",
    "So, in splitting the data into `training` and `test` sets, **we cannot split randomly**. Use the first *75%* of observations as training data and the following 25% for test data."
   ]
  },
  {
   "cell_type": "code",
   "execution_count": 8,
   "metadata": {},
   "outputs": [],
   "source": [
    "Weekly_Sales.dropna(inplace=True)\n"
   ]
  },
  {
   "cell_type": "code",
   "execution_count": 9,
   "metadata": {},
   "outputs": [],
   "source": [
    "X_train, X_test, y_train, y_test = train_test_split(Weekly_Sales['lag_week'],\n",
    "                                                    Weekly_Sales['Weekly_Sales'],\n",
    "                                                    test_size = 0.25,\n",
    "                                                    shuffle = False)\n",
    "\n"
   ]
  },
  {
   "cell_type": "markdown",
   "metadata": {},
   "source": [
    "#### 6. Autoregressive Model\n",
    "\n",
    "We will start by building a simple autoregressive model first: the `AR(1)` model. (*Note that this is the same thing as an ARIMA(1,0,0) model.*)\n",
    "\n",
    "**6a. Instantiate and fit an `AR(1)` model.**"
   ]
  },
  {
   "cell_type": "code",
   "execution_count": 10,
   "metadata": {},
   "outputs": [
    {
     "name": "stdout",
     "output_type": "stream",
     "text": [
      "(68,)\n",
      "(23,)\n",
      "(68,)\n",
      "(23,)\n"
     ]
    }
   ],
   "source": [
    "print(X_train.shape)\n",
    "print(X_test.shape)\n",
    "print(y_train.shape)\n",
    "print(y_test.shape)"
   ]
  },
  {
   "cell_type": "code",
   "execution_count": 11,
   "metadata": {},
   "outputs": [
    {
     "name": "stdout",
     "output_type": "stream",
     "text": [
      "(68, 2)\n",
      "(23, 2)\n",
      "(68,)\n",
      "(23,)\n"
     ]
    }
   ],
   "source": [
    "X_train = sm.add_constant(X_train)\n",
    "X_test = sm.add_constant(X_test)\n",
    "print(X_train.shape)\n",
    "print(X_test.shape)\n",
    "print(y_train.shape)\n",
    "print(y_test.shape)"
   ]
  },
  {
   "cell_type": "code",
   "execution_count": 12,
   "metadata": {},
   "outputs": [
    {
     "name": "stdout",
     "output_type": "stream",
     "text": [
      "(68, 2)\n",
      "(23, 2)\n",
      "(68,)\n",
      "(23,)\n"
     ]
    }
   ],
   "source": [
    "\n",
    "y_train = y_train[X_train.index] \n",
    "print(X_train.shape)\n",
    "print(X_test.shape)\n",
    "print(y_train.shape)\n",
    "print(y_test.shape)\n"
   ]
  },
  {
   "cell_type": "code",
   "execution_count": 13,
   "metadata": {},
   "outputs": [],
   "source": [
    "ar1 = sm.OLS(y_train, X_train)\n",
    "ar1_results = ar1.fit()"
   ]
  },
  {
   "cell_type": "code",
   "execution_count": 14,
   "metadata": {},
   "outputs": [
    {
     "name": "stdout",
     "output_type": "stream",
     "text": [
      "                            OLS Regression Results                            \n",
      "==============================================================================\n",
      "Dep. Variable:           Weekly_Sales   R-squared:                       0.083\n",
      "Model:                            OLS   Adj. R-squared:                  0.069\n",
      "Method:                 Least Squares   F-statistic:                     5.981\n",
      "Date:                Mon, 18 May 2020   Prob (F-statistic):             0.0171\n",
      "Time:                        09:16:24   Log-Likelihood:                -905.90\n",
      "No. Observations:                  68   AIC:                             1816.\n",
      "Df Residuals:                      66   BIC:                             1820.\n",
      "Df Model:                           1                                         \n",
      "Covariance Type:            nonrobust                                         \n",
      "==============================================================================\n",
      "                 coef    std err          t      P>|t|      [0.025      0.975]\n",
      "------------------------------------------------------------------------------\n",
      "const       1.136e+06   1.83e+05      6.209      0.000    7.71e+05     1.5e+06\n",
      "lag_week       0.2823      0.115      2.446      0.017       0.052       0.513\n",
      "==============================================================================\n",
      "Omnibus:                       29.095   Durbin-Watson:                   1.996\n",
      "Prob(Omnibus):                  0.000   Jarque-Bera (JB):               58.506\n",
      "Skew:                           1.453   Prob(JB):                     1.98e-13\n",
      "Kurtosis:                       6.493   Cond. No.                     1.60e+07\n",
      "==============================================================================\n",
      "\n",
      "Warnings:\n",
      "[1] Standard Errors assume that the covariance matrix of the errors is correctly specified.\n",
      "[2] The condition number is large, 1.6e+07. This might indicate that there are\n",
      "strong multicollinearity or other numerical problems.\n"
     ]
    }
   ],
   "source": [
    "print(ar1_results.summary())"
   ]
  },
  {
   "cell_type": "markdown",
   "metadata": {},
   "source": [
    "**6b. Calculate the Mean Squared Error of the `AR(1)` on your training set and your test set.**\n"
   ]
  },
  {
   "cell_type": "code",
   "execution_count": 15,
   "metadata": {},
   "outputs": [
    {
     "name": "stdout",
     "output_type": "stream",
     "text": [
      " Train MSE is 21823345029.900993\n",
      " Test MSE is 7308484505.397349\n"
     ]
    }
   ],
   "source": [
    "print(f' Train MSE is {mean_squared_error(y_train, ar1_results.predict(X_train))}')\n",
    "print(f' Test MSE is {mean_squared_error(y_test, ar1_results.predict(X_test))}')"
   ]
  },
  {
   "cell_type": "markdown",
   "metadata": {},
   "source": [
    "**6c. How effective do you think this `AR(1)` model is?**"
   ]
  },
  {
   "cell_type": "markdown",
   "metadata": {},
   "source": [
    "Its very bad."
   ]
  },
  {
   "cell_type": "markdown",
   "metadata": {},
   "source": [
    "#### 7. Residual Plot  \n",
    "Mean squared error is a good way to evaluate our model's performance. However, this doesn't tell the whole story. Is our model off by a lot in one specific window of time? Is our model only slightly off, but over all time? It might be helpful to plot residuals to see when our model is off most.|\n",
    "\n",
    "**7a. Calculate and and plot the residuals of your `AR(1)` model. (*Remember that a residual is just the actual value minus the predicted value.*)**"
   ]
  },
  {
   "cell_type": "code",
   "execution_count": 16,
   "metadata": {},
   "outputs": [
    {
     "data": {
      "image/png": "[encoded data removed]",
      "text/plain": [
       "<Figure size 432x288 with 1 Axes>"
      ]
     },
     "metadata": {
      "needs_background": "light"
     },
     "output_type": "display_data"
    }
   ],
   "source": [
    "plt.plot(X_test.index, ar1_results.predict(X_test) - y_test, c = \"orange\")\n",
    "plt.title(\"ar1 Resids Plot\",{'fontsize': 20}# plotting ridge resids plot \n",
    "         )\n",
    "plt.xlabel(\"dates\")\n",
    "plt.ylabel(\"Residuals\")\n",
    "\n",
    "\n",
    "plt.show()"
   ]
  },
  {
   "cell_type": "markdown",
   "metadata": {},
   "source": [
    "**7b. What do the residual plots reveal about our model?**"
   ]
  },
  {
   "cell_type": "markdown",
   "metadata": {},
   "source": [
    "It made a larger mistakes around the quarter and year mark."
   ]
  },
  {
   "cell_type": "markdown",
   "metadata": {},
   "source": [
    "#### 8. AR vs. ARMA Models \n",
    "\n",
    "\n",
    "**8a. Let's fit an `AR(2)` model. Calculate the MSE on the training and testing sets, then plot the residuals.**"
   ]
  },
  {
   "cell_type": "code",
   "execution_count": 17,
   "metadata": {},
   "outputs": [
    {
     "name": "stdout",
     "output_type": "stream",
     "text": [
      " Train MSE is 23364318063.77253\n",
      " Test MSE is 7507586454.126424\n"
     ]
    }
   ],
   "source": [
    "X_train, X_test, y_train, y_test = train_test_split(Weekly_Sales['lag_2_weeks'],\n",
    "                                                    Weekly_Sales['Weekly_Sales'],\n",
    "                                                    test_size = 0.25,\n",
    "                                                    shuffle = False)\n",
    "\n",
    "X_train = sm.add_constant(X_train)\n",
    "X_test = sm.add_constant(X_test)\n",
    "ar2 = sm.OLS(y_train, X_train)\n",
    "ar2_results = ar2.fit()\n",
    "print(f' Train MSE is {mean_squared_error(y_train, ar2_results.predict(X_train))}')\n",
    "print(f' Test MSE is {mean_squared_error(y_test, ar2_results.predict(X_test))}')"
   ]
  },
  {
   "cell_type": "code",
   "execution_count": 18,
   "metadata": {},
   "outputs": [
    {
     "data": {
      "image/png": "[encoded data removed]",
      "text/plain": [
       "<Figure size 432x288 with 1 Axes>"
      ]
     },
     "metadata": {
      "needs_background": "light"
     },
     "output_type": "display_data"
    }
   ],
   "source": [
    "plt.plot(X_test.index, ar2_results.predict(X_test) - y_test, c = \"orange\")\n",
    "plt.title(\"ar2 Resids Plot\",{'fontsize': 20}# plotting ridge resids plot \n",
    "         )\n",
    "plt.xlabel(\"Dates\")\n",
    "plt.ylabel(\"Residuals\")\n",
    "\n",
    "\n",
    "plt.show()"
   ]
  },
  {
   "cell_type": "markdown",
   "metadata": {},
   "source": [
    "**8b. How did your results change?**"
   ]
  },
  {
   "cell_type": "markdown",
   "metadata": {},
   "source": [
    "It stayed about the same"
   ]
  },
  {
   "cell_type": "markdown",
   "metadata": {},
   "source": [
    "**8c. Fit an `ARMA(2,2)` model. Calculate the MSE on the training and testing sets, then plot the residuals.** (_Note that an `ARMA(2,2)` model is the same as an `ARIMA(2,0,2)` model._)"
   ]
  },
  {
   "cell_type": "code",
   "execution_count": 19,
   "metadata": {},
   "outputs": [
    {
     "data": {
      "text/plain": [
       "(23,)"
      ]
     },
     "execution_count": 19,
     "metadata": {},
     "output_type": "execute_result"
    }
   ],
   "source": [
    "y_train, y_test = train_test_split(Weekly_Sales['Weekly_Sales'],\n",
    "                                   test_size = 0.25,\n",
    "                                   shuffle = False) # Shuffle = False is IMPORTANT!\n",
    "\n",
    "y_test.shape"
   ]
  },
  {
   "cell_type": "code",
   "execution_count": 20,
   "metadata": {},
   "outputs": [],
   "source": [
    "arma = ARIMA(endog = y_train, order = (2, 0, 2))\n",
    "# Fitting AR(1) model\n",
    "arma_results = arma.fit()"
   ]
  },
  {
   "cell_type": "code",
   "execution_count": 21,
   "metadata": {},
   "outputs": [],
   "source": [
    "preds = arma_results.predict(start = Weekly_Sales['Weekly_Sales'].index[0], end= Weekly_Sales['Weekly_Sales'].index[-1])\n"
   ]
  },
  {
   "cell_type": "code",
   "execution_count": 22,
   "metadata": {},
   "outputs": [],
   "source": [
    "data = Weekly_Sales['Weekly_Sales']"
   ]
  },
  {
   "cell_type": "code",
   "execution_count": 23,
   "metadata": {},
   "outputs": [
    {
     "name": "stdout",
     "output_type": "stream",
     "text": [
      " Test MSE is 17793778962.973072\n"
     ]
    }
   ],
   "source": [
    "print(f' Test MSE is {mean_squared_error(data,preds)}')\n"
   ]
  },
  {
   "cell_type": "code",
   "execution_count": 24,
   "metadata": {},
   "outputs": [
    {
     "data": {
      "image/png": "[encoded data removed]",
      "text/plain": [
       "<Figure size 432x288 with 1 Axes>"
      ]
     },
     "metadata": {
      "needs_background": "light"
     },
     "output_type": "display_data"
    }
   ],
   "source": [
    "plt.plot(data.index, preds - y_test, c = \"blue\")\n",
    "plt.title(\"arima Resids Plot\",{'fontsize': 20}# plotting ridge resids plot \n",
    "         )\n",
    "plt.xlabel(\"Dates\")\n",
    "plt.ylabel(\"Residuals\")\n",
    "\n",
    "\n",
    "plt.show()"
   ]
  },
  {
   "cell_type": "markdown",
   "metadata": {},
   "source": [
    "**8d. How do the errors and residuals change from `AR(2)` to `ARMA(2,2)`?**\n",
    "\n"
   ]
  },
  {
   "cell_type": "markdown",
   "metadata": {},
   "source": [
    "They stay about the same"
   ]
  },
  {
   "cell_type": "markdown",
   "metadata": {},
   "source": [
    "#### 9. Stationary Data\n",
    "\n",
    "Remember that one assumption to using the ARIMA model is that our data are **stationary**. This is a necessary assumption for our model, and it is important for us to check for it whenever we fit a time series model.\n",
    "\n",
    "**9a. Use the Augmented Dickey-Fuller test to estimate whether or not your data are stationary.**"
   ]
  },
  {
   "cell_type": "code",
   "execution_count": 25,
   "metadata": {},
   "outputs": [
    {
     "data": {
      "text/plain": [
       "(-2.7072516205621744,\n",
       " 0.07279180625050863,\n",
       " 6,\n",
       " 84,\n",
       " {'1%': -3.510711795769895,\n",
       "  '5%': -2.8966159448223734,\n",
       "  '10%': -2.5854823866213152},\n",
       " 2071.698954257466)"
      ]
     },
     "execution_count": 25,
     "metadata": {},
     "output_type": "execute_result"
    }
   ],
   "source": [
    "(adfuller(Weekly_Sales['Weekly_Sales'].dropna()))"
   ]
  },
  {
   "cell_type": "markdown",
   "metadata": {},
   "source": [
    "**9b. Interpret the results of the Augmented Dickey-Fuller test.**"
   ]
  },
  {
   "cell_type": "code",
   "execution_count": 26,
   "metadata": {},
   "outputs": [],
   "source": [
    "def interpret_dftest(dftest):\n",
    "    dfoutput = pd.Series(dftest[0:2], index=['Test Statistic','p-value'])\n",
    "    return dfoutput"
   ]
  },
  {
   "cell_type": "code",
   "execution_count": 27,
   "metadata": {},
   "outputs": [
    {
     "data": {
      "text/plain": [
       "Test Statistic   -2.707252\n",
       "p-value           0.072792\n",
       "dtype: float64"
      ]
     },
     "execution_count": 27,
     "metadata": {},
     "output_type": "execute_result"
    }
   ],
   "source": [
    "interpret_dftest((adfuller(Weekly_Sales['Weekly_Sales'])))"
   ]
  },
  {
   "cell_type": "markdown",
   "metadata": {},
   "source": [
    "We need to to diff to get stationarity"
   ]
  },
  {
   "cell_type": "markdown",
   "metadata": {},
   "source": [
    "#### 10. Differenced Data\n",
    "\n",
    "**10a. Create new columns in your `Weekly_Sales` dataframe.**\n",
    "- One column should be `Weekly_Sales` differenced by 1 time period.\n",
    "- Another column should be `Weekly_Sales` differenced by 2 time periods.\n",
    "- Another column should be `Weekly_Sales` differenced by 3 time periods.\n",
    "- Another column should be `Weekly_Sales` differenced by 4 time periods."
   ]
  },
  {
   "cell_type": "code",
   "execution_count": 28,
   "metadata": {},
   "outputs": [],
   "source": [
    "Weekly_Sales['Weekly_Sales_firs_diff'] = Weekly_Sales['Weekly_Sales'].diff(1)\n",
    "Weekly_Sales['Weekly_Sales_sec_diff'] = Weekly_Sales['Weekly_Sales'].diff(1).diff(1)\n",
    "Weekly_Sales['Weekly_Sales_third_diff'] = Weekly_Sales['Weekly_Sales'].diff(1).diff(1).diff(1)\n",
    "Weekly_Sales['Weekly_Sales_fourth_diff'] = Weekly_Sales['Weekly_Sales'].diff(1).diff(1).diff(1).diff(1)"
   ]
  },
  {
   "cell_type": "code",
   "execution_count": 29,
   "metadata": {},
   "outputs": [
    {
     "data": {
      "text/html": [
       "<div>\n",
       "<style scoped>\n",
       "    .dataframe tbody tr th:only-of-type {\n",
       "        vertical-align: middle;\n",
       "    }\n",
       "\n",
       "    .dataframe tbody tr th {\n",
       "        vertical-align: top;\n",
       "    }\n",
       "\n",
       "    .dataframe thead th {\n",
       "        text-align: right;\n",
       "    }\n",
       "</style>\n",
       "<table border=\"1\" class=\"dataframe\">\n",
       "  <thead>\n",
       "    <tr style=\"text-align: right;\">\n",
       "      <th></th>\n",
       "      <th>Store</th>\n",
       "      <th>Dept</th>\n",
       "      <th>Weekly_Sales</th>\n",
       "      <th>IsHoliday</th>\n",
       "      <th>lag_week</th>\n",
       "      <th>lag_2_weeks</th>\n",
       "      <th>lag_year</th>\n",
       "      <th>Weekly_Sales_firs_diff</th>\n",
       "      <th>Weekly_Sales_sec_diff</th>\n",
       "      <th>Weekly_Sales_third_diff</th>\n",
       "      <th>Weekly_Sales_fourth_diff</th>\n",
       "    </tr>\n",
       "    <tr>\n",
       "      <th>Date</th>\n",
       "      <th></th>\n",
       "      <th></th>\n",
       "      <th></th>\n",
       "      <th></th>\n",
       "      <th></th>\n",
       "      <th></th>\n",
       "      <th></th>\n",
       "      <th></th>\n",
       "      <th></th>\n",
       "      <th></th>\n",
       "      <th></th>\n",
       "    </tr>\n",
       "  </thead>\n",
       "  <tbody>\n",
       "    <tr>\n",
       "      <th>2011-02-06</th>\n",
       "      <td>71</td>\n",
       "      <td>3137</td>\n",
       "      <td>1606629.58</td>\n",
       "      <td>0.0</td>\n",
       "      <td>1316899.31</td>\n",
       "      <td>1327405.42</td>\n",
       "      <td>1643690.90</td>\n",
       "      <td>NaN</td>\n",
       "      <td>NaN</td>\n",
       "      <td>NaN</td>\n",
       "      <td>NaN</td>\n",
       "    </tr>\n",
       "    <tr>\n",
       "      <th>2011-02-13</th>\n",
       "      <td>72</td>\n",
       "      <td>3182</td>\n",
       "      <td>1649614.93</td>\n",
       "      <td>72.0</td>\n",
       "      <td>1606629.58</td>\n",
       "      <td>1316899.31</td>\n",
       "      <td>1641957.44</td>\n",
       "      <td>42985.35</td>\n",
       "      <td>NaN</td>\n",
       "      <td>NaN</td>\n",
       "      <td>NaN</td>\n",
       "    </tr>\n",
       "    <tr>\n",
       "      <th>2011-02-20</th>\n",
       "      <td>72</td>\n",
       "      <td>3182</td>\n",
       "      <td>1686842.78</td>\n",
       "      <td>0.0</td>\n",
       "      <td>1649614.93</td>\n",
       "      <td>1606629.58</td>\n",
       "      <td>1611968.17</td>\n",
       "      <td>37227.85</td>\n",
       "      <td>-5757.50</td>\n",
       "      <td>NaN</td>\n",
       "      <td>NaN</td>\n",
       "    </tr>\n",
       "    <tr>\n",
       "      <th>2011-02-27</th>\n",
       "      <td>72</td>\n",
       "      <td>3182</td>\n",
       "      <td>1456800.28</td>\n",
       "      <td>0.0</td>\n",
       "      <td>1686842.78</td>\n",
       "      <td>1649614.93</td>\n",
       "      <td>1409727.59</td>\n",
       "      <td>-230042.50</td>\n",
       "      <td>-267270.35</td>\n",
       "      <td>-261512.85</td>\n",
       "      <td>NaN</td>\n",
       "    </tr>\n",
       "    <tr>\n",
       "      <th>2011-03-06</th>\n",
       "      <td>73</td>\n",
       "      <td>3281</td>\n",
       "      <td>1636263.41</td>\n",
       "      <td>0.0</td>\n",
       "      <td>1456800.28</td>\n",
       "      <td>1686842.78</td>\n",
       "      <td>1554806.68</td>\n",
       "      <td>179463.13</td>\n",
       "      <td>409505.63</td>\n",
       "      <td>676775.98</td>\n",
       "      <td>938288.83</td>\n",
       "    </tr>\n",
       "  </tbody>\n",
       "</table>\n",
       "</div>"
      ],
      "text/plain": [
       "            Store  Dept  Weekly_Sales  IsHoliday    lag_week  lag_2_weeks  \\\n",
       "Date                                                                        \n",
       "2011-02-06     71  3137    1606629.58        0.0  1316899.31   1327405.42   \n",
       "2011-02-13     72  3182    1649614.93       72.0  1606629.58   1316899.31   \n",
       "2011-02-20     72  3182    1686842.78        0.0  1649614.93   1606629.58   \n",
       "2011-02-27     72  3182    1456800.28        0.0  1686842.78   1649614.93   \n",
       "2011-03-06     73  3281    1636263.41        0.0  1456800.28   1686842.78   \n",
       "\n",
       "              lag_year  Weekly_Sales_firs_diff  Weekly_Sales_sec_diff  \\\n",
       "Date                                                                    \n",
       "2011-02-06  1643690.90                     NaN                    NaN   \n",
       "2011-02-13  1641957.44                42985.35                    NaN   \n",
       "2011-02-20  1611968.17                37227.85               -5757.50   \n",
       "2011-02-27  1409727.59              -230042.50             -267270.35   \n",
       "2011-03-06  1554806.68               179463.13              409505.63   \n",
       "\n",
       "            Weekly_Sales_third_diff  Weekly_Sales_fourth_diff  \n",
       "Date                                                           \n",
       "2011-02-06                      NaN                       NaN  \n",
       "2011-02-13                      NaN                       NaN  \n",
       "2011-02-20                      NaN                       NaN  \n",
       "2011-02-27               -261512.85                       NaN  \n",
       "2011-03-06                676775.98                 938288.83  "
      ]
     },
     "execution_count": 29,
     "metadata": {},
     "output_type": "execute_result"
    }
   ],
   "source": [
    "Weekly_Sales.head()"
   ]
  },
  {
   "cell_type": "markdown",
   "metadata": {},
   "source": [
    "**10b. Conduct and interpret the Augmented Dickey-Fuller test on each differenced column to test for stationarity.**"
   ]
  },
  {
   "cell_type": "code",
   "execution_count": 30,
   "metadata": {},
   "outputs": [
    {
     "data": {
      "text/plain": [
       "Test Statistic   -5.766885e+00\n",
       "p-value           5.506297e-07\n",
       "dtype: float64"
      ]
     },
     "execution_count": 30,
     "metadata": {},
     "output_type": "execute_result"
    }
   ],
   "source": [
    "interpret_dftest(adfuller(Weekly_Sales['Weekly_Sales_firs_diff'].dropna()))"
   ]
  },
  {
   "cell_type": "code",
   "execution_count": 31,
   "metadata": {},
   "outputs": [
    {
     "data": {
      "text/plain": [
       "Test Statistic   -7.075589e+00\n",
       "p-value           4.811481e-10\n",
       "dtype: float64"
      ]
     },
     "execution_count": 31,
     "metadata": {},
     "output_type": "execute_result"
    }
   ],
   "source": [
    "interpret_dftest(adfuller(Weekly_Sales['Weekly_Sales_sec_diff'].dropna()))"
   ]
  },
  {
   "cell_type": "code",
   "execution_count": 32,
   "metadata": {},
   "outputs": [
    {
     "data": {
      "text/plain": [
       "Test Statistic   -5.829217e+00\n",
       "p-value           4.011735e-07\n",
       "dtype: float64"
      ]
     },
     "execution_count": 32,
     "metadata": {},
     "output_type": "execute_result"
    }
   ],
   "source": [
    "interpret_dftest((adfuller(Weekly_Sales['Weekly_Sales_third_diff'].dropna())))"
   ]
  },
  {
   "cell_type": "code",
   "execution_count": 33,
   "metadata": {},
   "outputs": [
    {
     "data": {
      "text/plain": [
       "Test Statistic   -7.571893e+00\n",
       "p-value           2.826929e-11\n",
       "dtype: float64"
      ]
     },
     "execution_count": 33,
     "metadata": {},
     "output_type": "execute_result"
    }
   ],
   "source": [
    "interpret_dftest((adfuller(Weekly_Sales['Weekly_Sales_fourth_diff'].dropna())))"
   ]
  },
  {
   "cell_type": "markdown",
   "metadata": {},
   "source": [
    "**10c. For which (if any) of the columns does it seem meaningful to have differenced the data?**"
   ]
  },
  {
   "cell_type": "markdown",
   "metadata": {},
   "source": [
    "The first one"
   ]
  },
  {
   "cell_type": "markdown",
   "metadata": {},
   "source": [
    "**10d. Based on these tests and the ACF/PACF plots above, do you think that using an Integrated AutoRegressive Moving Average (ARIMA) model makes sense? Why or why not?**"
   ]
  },
  {
   "cell_type": "markdown",
   "metadata": {},
   "source": [
    "Yes, because we have seasonality and a clear trend in the data that we need to account for in predicting future values"
   ]
  },
  {
   "cell_type": "markdown",
   "metadata": {},
   "source": [
    "#### 11.  ARIMA MODEL\n",
    "\n",
    "Based on your interpretation of the results from your tests for stationarity, and information gleaned from your ACF and PACF plots, choose a value of `d` to use in the `ARIMA(2,d,2)`.\n",
    "\n",
    "**11a. Fit an `ARIMA(2,d,2)` model for the value of `d` you have chosen. Evaluate your model on the training and testing sets and generate a residual plot.**"
   ]
  },
  {
   "cell_type": "code",
   "execution_count": 34,
   "metadata": {},
   "outputs": [],
   "source": [
    "y_train, y_test = train_test_split(Weekly_Sales['Weekly_Sales'],\n",
    "                                   test_size = 0.25,\n",
    "                                   shuffle = False) \n"
   ]
  },
  {
   "cell_type": "code",
   "execution_count": 35,
   "metadata": {},
   "outputs": [],
   "source": [
    "arima = ARIMA(endog = y_train.astype(float).dropna(), # endog = Y variable\n",
    "              order = (2,0,2))"
   ]
  },
  {
   "cell_type": "code",
   "execution_count": 36,
   "metadata": {},
   "outputs": [],
   "source": [
    "arima_results = arima.fit()"
   ]
  },
  {
   "cell_type": "code",
   "execution_count": 37,
   "metadata": {},
   "outputs": [],
   "source": [
    "preds = arima_results.predict(start = Weekly_Sales['Weekly_Sales'].index[0], end= Weekly_Sales['Weekly_Sales'].index[-1])"
   ]
  },
  {
   "cell_type": "code",
   "execution_count": 38,
   "metadata": {},
   "outputs": [
    {
     "name": "stdout",
     "output_type": "stream",
     "text": [
      " Test MSE is 17793778962.973072\n"
     ]
    }
   ],
   "source": [
    "print(f' Test MSE is {mean_squared_error(data,preds)}')"
   ]
  },
  {
   "cell_type": "code",
   "execution_count": 39,
   "metadata": {},
   "outputs": [
    {
     "data": {
      "image/png": "[encoded data removed]",
      "text/plain": [
       "<Figure size 432x288 with 1 Axes>"
      ]
     },
     "metadata": {
      "needs_background": "light"
     },
     "output_type": "display_data"
    }
   ],
   "source": [
    "plt.plot(data.index, preds - y_test, c = \"blue\")\n",
    "plt.title(\"arima (2,0,2) Resids Plot\",{'fontsize': 20}# plotting ridge resids plot \n",
    "         )\n",
    "plt.xlabel(\"Dates\")\n",
    "plt.ylabel(\"Residuals\")\n",
    "\n",
    "\n",
    "plt.show()\n"
   ]
  },
  {
   "cell_type": "markdown",
   "metadata": {},
   "source": [
    "**11b. Interpret the results from the last answer.**\n"
   ]
  },
  {
   "cell_type": "markdown",
   "metadata": {},
   "source": [
    "Its the same as the last one because the optimal I is 0."
   ]
  },
  {
   "cell_type": "markdown",
   "metadata": {},
   "source": [
    "#### 12.  SARIMAX Model\n",
    "We have looked at autocorrelation of neighboring values (i.e. comparing $Y_t$ to $Y_{t-1}$ or $Y_t$ to $Y_{t-4}$). However, what about seasonal affects on our data? How might the sales today be related to sales 6 months ago or a year ago?\n",
    "\n",
    "Let's build a SARIMAX model!\n",
    "\n",
    "**12a. Using `PACF` and `ACF` plots with appropriate intervals (think months in a year) try to build the best SARIMAX model you can in setting the `seasonal_order = (P, D, Q, S)` and using `order = (2, 0, 2)`, fit and evaluate the model as we have done in the prior models**."
   ]
  },
  {
   "cell_type": "code",
   "execution_count": 47,
   "metadata": {},
   "outputs": [],
   "source": [
    "y_train, y_test = train_test_split(Weekly_Sales['Weekly_Sales'],\n",
    "                                   test_size = 0.25,\n",
    "                                   shuffle = False) "
   ]
  },
  {
   "cell_type": "code",
   "execution_count": 52,
   "metadata": {},
   "outputs": [
    {
     "name": "stdout",
     "output_type": "stream",
     "text": [
      "ARIMA(0, 0, 0)x(0, 0, 0, 12)12 - AIC:692.1999214714427\n",
      "ARIMA(0, 0, 0)x(0, 0, 1, 12)12 - AIC:274.36180976813733\n",
      "ARIMA(0, 0, 0)x(0, 1, 0, 12)12 - AIC:271.7755375357823\n",
      "ARIMA(0, 0, 0)x(0, 1, 1, 12)12 - AIC:4.0\n",
      "ARIMA(0, 0, 0)x(1, 0, 0, 12)12 - AIC:293.6228186991609\n",
      "ARIMA(0, 0, 0)x(1, 0, 1, 12)12 - AIC:269.79572449072896\n",
      "ARIMA(0, 0, 0)x(1, 1, 0, 12)12 - AIC:4.0\n",
      "ARIMA(0, 0, 0)x(1, 1, 1, 12)12 - AIC:6.0\n",
      "ARIMA(0, 0, 1)x(0, 0, 0, 12)12 - AIC:647.7223999086112\n",
      "ARIMA(0, 0, 1)x(0, 0, 1, 12)12 - AIC:279.4133842043334\n",
      "ARIMA(0, 0, 1)x(0, 1, 0, 12)12 - AIC:241.4851245560913\n",
      "ARIMA(0, 0, 1)x(0, 1, 1, 12)12 - AIC:6.0\n",
      "ARIMA(0, 0, 1)x(1, 0, 0, 12)12 - AIC:340.0142100655569\n",
      "ARIMA(0, 0, 1)x(1, 0, 1, 12)12 - AIC:281.284883064582\n",
      "ARIMA(0, 0, 1)x(1, 1, 0, 12)12 - AIC:6.0\n",
      "ARIMA(0, 0, 1)x(1, 1, 1, 12)12 - AIC:8.0\n",
      "ARIMA(0, 1, 0)x(0, 0, 0, 12)12 - AIC:552.2613580390127\n",
      "ARIMA(0, 1, 0)x(0, 0, 1, 12)12 - AIC:237.2286838082966\n",
      "ARIMA(0, 1, 0)x(0, 1, 0, 12)12 - AIC:252.49145545762076\n",
      "ARIMA(0, 1, 0)x(0, 1, 1, 12)12 - AIC:4.0\n",
      "ARIMA(0, 1, 0)x(1, 0, 0, 12)12 - AIC:262.5273021173106\n",
      "ARIMA(0, 1, 0)x(1, 0, 1, 12)12 - AIC:239.22867359974362\n",
      "ARIMA(0, 1, 0)x(1, 1, 0, 12)12 - AIC:4.0\n",
      "ARIMA(0, 1, 0)x(1, 1, 1, 12)12 - AIC:6.0\n",
      "ARIMA(0, 1, 1)x(0, 0, 0, 12)12 - AIC:513.6237968047401\n",
      "ARIMA(0, 1, 1)x(0, 0, 1, 12)12 - AIC:208.76697250323457\n",
      "ARIMA(0, 1, 1)x(0, 1, 0, 12)12 - AIC:220.1188373355808\n",
      "ARIMA(0, 1, 1)x(0, 1, 1, 12)12 - AIC:6.0\n",
      "ARIMA(0, 1, 1)x(1, 0, 0, 12)12 - AIC:259.0492039836075\n",
      "ARIMA(0, 1, 1)x(1, 0, 1, 12)12 - AIC:210.47739743872046\n",
      "ARIMA(0, 1, 1)x(1, 1, 0, 12)12 - AIC:6.0\n",
      "ARIMA(0, 1, 1)x(1, 1, 1, 12)12 - AIC:8.0\n",
      "ARIMA(1, 0, 0)x(0, 0, 0, 12)12 - AIC:579.6510827237806\n",
      "ARIMA(1, 0, 0)x(0, 0, 1, 12)12 - AIC:264.89302283926867\n",
      "ARIMA(1, 0, 0)x(0, 1, 0, 12)12 - AIC:269.05335173264467\n",
      "ARIMA(1, 0, 0)x(0, 1, 1, 12)12 - AIC:6.0\n",
      "ARIMA(1, 0, 0)x(1, 0, 0, 12)12 - AIC:264.8930002497793\n",
      "ARIMA(1, 0, 0)x(1, 0, 1, 12)12 - AIC:266.89300590045224\n",
      "ARIMA(1, 0, 0)x(1, 1, 0, 12)12 - AIC:6.0\n",
      "ARIMA(1, 0, 0)x(1, 1, 1, 12)12 - AIC:8.0\n",
      "ARIMA(1, 0, 1)x(0, 0, 0, 12)12 - AIC:544.4769677001839\n",
      "ARIMA(1, 0, 1)x(0, 0, 1, 12)12 - AIC:237.2589226702688\n",
      "ARIMA(1, 0, 1)x(0, 1, 0, 12)12 - AIC:243.6809331944145\n",
      "ARIMA(1, 0, 1)x(0, 1, 1, 12)12 - AIC:8.0\n",
      "ARIMA(1, 0, 1)x(1, 0, 0, 12)12 - AIC:270.72017108067917\n",
      "ARIMA(1, 0, 1)x(1, 0, 1, 12)12 - AIC:238.32933687231952\n",
      "ARIMA(1, 0, 1)x(1, 1, 0, 12)12 - AIC:8.0\n",
      "ARIMA(1, 0, 1)x(1, 1, 1, 12)12 - AIC:10.0\n",
      "ARIMA(1, 1, 0)x(0, 0, 0, 12)12 - AIC:551.6197824924881\n",
      "ARIMA(1, 1, 0)x(0, 0, 1, 12)12 - AIC:238.6238927168309\n",
      "ARIMA(1, 1, 0)x(0, 1, 0, 12)12 - AIC:247.87252359357944\n",
      "ARIMA(1, 1, 0)x(0, 1, 1, 12)12 - AIC:6.0\n",
      "ARIMA(1, 1, 0)x(1, 0, 0, 12)12 - AIC:238.6238841058461\n",
      "ARIMA(1, 1, 0)x(1, 0, 1, 12)12 - AIC:240.62388626055787\n",
      "ARIMA(1, 1, 0)x(1, 1, 0, 12)12 - AIC:6.0\n",
      "ARIMA(1, 1, 0)x(1, 1, 1, 12)12 - AIC:8.0\n",
      "ARIMA(1, 1, 1)x(0, 0, 0, 12)12 - AIC:511.57282101045365\n",
      "ARIMA(1, 1, 1)x(0, 0, 1, 12)12 - AIC:209.541761049672\n",
      "ARIMA(1, 1, 1)x(0, 1, 0, 12)12 - AIC:221.6818344449382\n",
      "ARIMA(1, 1, 1)x(0, 1, 1, 12)12 - AIC:8.0\n",
      "ARIMA(1, 1, 1)x(1, 0, 0, 12)12 - AIC:234.41941689022894\n",
      "ARIMA(1, 1, 1)x(1, 0, 1, 12)12 - AIC:211.47742810550432\n",
      "ARIMA(1, 1, 1)x(1, 1, 0, 12)12 - AIC:8.0\n",
      "ARIMA(1, 1, 1)x(1, 1, 1, 12)12 - AIC:10.0\n"
     ]
    }
   ],
   "source": [
    "p = d = q = range(0, 2)\n",
    "\n",
    "# Generate all different combinations of p, q and q triplets\n",
    "pdq = list(itertools.product(p, d, q))\n",
    "\n",
    "# Generate all different combinations of seasonal p, q and q triplets\n",
    "seasonal_pdq = [(x[0], x[1], x[2], 12) for x in list(itertools.product(p, d, q))]\n",
    "\n",
    "warnings.filterwarnings(\"ignore\") # specify to ignore warning messages\n",
    "\n",
    "for param in pdq:\n",
    "    for param_seasonal in seasonal_pdq:\n",
    "        try:\n",
    "            mod = sm.tsa.statespace.SARIMAX(y_test,\n",
    "                                            order=param,\n",
    "                                            seasonal_order=param_seasonal,\n",
    "                                            enforce_stationarity=False,\n",
    "                                            enforce_invertibility=False)\n",
    "\n",
    "            results = mod.fit()\n",
    "\n",
    "            print('ARIMA{}x{}12 - AIC:{}'.format(param, param_seasonal, results.aic))\n",
    "        except:\n",
    "            continue"
   ]
  },
  {
   "cell_type": "code",
   "execution_count": 56,
   "metadata": {},
   "outputs": [],
   "source": [
    "mod = sm.tsa.statespace.SARIMAX(Weekly_Sales['Weekly_Sales'],\n",
    "                                order=(0, 0, 1),\n",
    "                                seasonal_order=(0, 1, 1, 12),\n",
    "                                enforce_stationarity=False,\n",
    "                                enforce_invertibility=False)\n",
    "sarimax = mod.fit()\n"
   ]
  },
  {
   "cell_type": "code",
   "execution_count": 60,
   "metadata": {},
   "outputs": [],
   "source": [
    "preds = sarimax.predict(start = Weekly_Sales['Weekly_Sales'].index[0], end= Weekly_Sales['Weekly_Sales'].index[-1])"
   ]
  },
  {
   "cell_type": "code",
   "execution_count": 67,
   "metadata": {},
   "outputs": [
    {
     "data": {
      "text/plain": [
       "(91,)"
      ]
     },
     "execution_count": 67,
     "metadata": {},
     "output_type": "execute_result"
    }
   ],
   "source": [
    "data = Weekly_Sales['Weekly_Sales']\n",
    "preds.shape"
   ]
  },
  {
   "cell_type": "code",
   "execution_count": 68,
   "metadata": {},
   "outputs": [
    {
     "name": "stdout",
     "output_type": "stream",
     "text": [
      " Test MSE is 85917695354.33281\n"
     ]
    }
   ],
   "source": [
    "print(f' Test MSE is {mean_squared_error(data,preds)}')"
   ]
  },
  {
   "cell_type": "code",
   "execution_count": 69,
   "metadata": {},
   "outputs": [
    {
     "data": {
      "image/png": "[encoded data removed]",
      "text/plain": [
       "<Figure size 432x288 with 1 Axes>"
      ]
     },
     "metadata": {
      "needs_background": "light"
     },
     "output_type": "display_data"
    }
   ],
   "source": [
    "plt.plot(data.index, preds - y_test, c = \"blue\")\n",
    "plt.title(\"sarimax Resids Plot\",{'fontsize': 20}# plotting ridge resids plot \n",
    "         )\n",
    "plt.xlabel(\"Dates\")\n",
    "plt.ylabel(\"Residuals\")\n",
    "\n",
    "\n",
    "plt.show()\n",
    "\n"
   ]
  },
  {
   "cell_type": "markdown",
   "metadata": {},
   "source": [
    "**12b. How did your best SARIMAX model perform?**"
   ]
  },
  {
   "cell_type": "markdown",
   "metadata": {},
   "source": [
    "It seems to be much more in line with the fluctuations of the data. And as it gets close to a year ot gets more accurate."
   ]
  },
  {
   "cell_type": "markdown",
   "metadata": {},
   "source": [
    "### 13. Your Best Model\n",
    "\n",
    "**13a. In the cells below, bring together your best model, including:**\n",
    "- any summaries, \n",
    "- graphs of the data and residuals, \n",
    "- the predictions,\n",
    "- and how you decided this was your best model."
   ]
  },
  {
   "cell_type": "markdown",
   "metadata": {},
   "source": [
    "The ARIMA (2,0,2) had the lowest MSE."
   ]
  },
  {
   "cell_type": "code",
   "execution_count": 45,
   "metadata": {},
   "outputs": [
    {
     "data": {
      "text/html": [
       "<table class=\"simpletable\">\n",
       "<caption>ARMA Model Results</caption>\n",
       "<tr>\n",
       "  <th>Dep. Variable:</th>   <td>Weekly_Sales</td>   <th>  No. Observations:  </th>     <td>68</td>    \n",
       "</tr>\n",
       "<tr>\n",
       "  <th>Model:</th>            <td>ARMA(2, 2)</td>    <th>  Log Likelihood     </th>  <td>-905.453</td> \n",
       "</tr>\n",
       "<tr>\n",
       "  <th>Method:</th>             <td>css-mle</td>     <th>  S.D. of innovations</th> <td>146642.887</td>\n",
       "</tr>\n",
       "<tr>\n",
       "  <th>Date:</th>          <td>Mon, 18 May 2020</td> <th>  AIC                </th>  <td>1822.906</td> \n",
       "</tr>\n",
       "<tr>\n",
       "  <th>Time:</th>              <td>09:16:27</td>     <th>  BIC                </th>  <td>1836.223</td> \n",
       "</tr>\n",
       "<tr>\n",
       "  <th>Sample:</th>           <td>02-06-2011</td>    <th>  HQIC               </th>  <td>1828.183</td> \n",
       "</tr>\n",
       "<tr>\n",
       "  <th></th>                 <td>- 05-20-2012</td>   <th>                     </th>      <td> </td>    \n",
       "</tr>\n",
       "</table>\n",
       "<table class=\"simpletable\">\n",
       "<tr>\n",
       "           <td></td>             <th>coef</th>     <th>std err</th>      <th>z</th>      <th>P>|z|</th>  <th>[0.025</th>    <th>0.975]</th>  \n",
       "</tr>\n",
       "<tr>\n",
       "  <th>const</th>              <td> 1.582e+06</td> <td>  2.9e+04</td> <td>   54.638</td> <td> 0.000</td> <td> 1.53e+06</td> <td> 1.64e+06</td>\n",
       "</tr>\n",
       "<tr>\n",
       "  <th>ar.L1.Weekly_Sales</th> <td>    0.7208</td> <td>    1.458</td> <td>    0.495</td> <td> 0.621</td> <td>   -2.136</td> <td>    3.578</td>\n",
       "</tr>\n",
       "<tr>\n",
       "  <th>ar.L2.Weekly_Sales</th> <td>   -0.0401</td> <td>    0.799</td> <td>   -0.050</td> <td> 0.960</td> <td>   -1.606</td> <td>    1.526</td>\n",
       "</tr>\n",
       "<tr>\n",
       "  <th>ma.L1.Weekly_Sales</th> <td>   -0.4533</td> <td>    1.452</td> <td>   -0.312</td> <td> 0.755</td> <td>   -3.299</td> <td>    2.392</td>\n",
       "</tr>\n",
       "<tr>\n",
       "  <th>ma.L2.Weekly_Sales</th> <td>   -0.0189</td> <td>    0.448</td> <td>   -0.042</td> <td> 0.966</td> <td>   -0.897</td> <td>    0.860</td>\n",
       "</tr>\n",
       "</table>\n",
       "<table class=\"simpletable\">\n",
       "<caption>Roots</caption>\n",
       "<tr>\n",
       "    <td></td>   <th>            Real</th>  <th>         Imaginary</th> <th>         Modulus</th>  <th>        Frequency</th>\n",
       "</tr>\n",
       "<tr>\n",
       "  <th>AR.1</th> <td>           1.5149</td> <td>          +0.0000j</td> <td>           1.5149</td> <td>           0.0000</td>\n",
       "</tr>\n",
       "<tr>\n",
       "  <th>AR.2</th> <td>          16.4781</td> <td>          +0.0000j</td> <td>          16.4781</td> <td>           0.0000</td>\n",
       "</tr>\n",
       "<tr>\n",
       "  <th>MA.1</th> <td>           2.0336</td> <td>          +0.0000j</td> <td>           2.0336</td> <td>           0.0000</td>\n",
       "</tr>\n",
       "<tr>\n",
       "  <th>MA.2</th> <td>         -26.0302</td> <td>          +0.0000j</td> <td>          26.0302</td> <td>           0.5000</td>\n",
       "</tr>\n",
       "</table>"
      ],
      "text/plain": [
       "<class 'statsmodels.iolib.summary.Summary'>\n",
       "\"\"\"\n",
       "                              ARMA Model Results                              \n",
       "==============================================================================\n",
       "Dep. Variable:           Weekly_Sales   No. Observations:                   68\n",
       "Model:                     ARMA(2, 2)   Log Likelihood                -905.453\n",
       "Method:                       css-mle   S.D. of innovations         146642.887\n",
       "Date:                Mon, 18 May 2020   AIC                           1822.906\n",
       "Time:                        09:16:27   BIC                           1836.223\n",
       "Sample:                    02-06-2011   HQIC                          1828.183\n",
       "                         - 05-20-2012                                         \n",
       "======================================================================================\n",
       "                         coef    std err          z      P>|z|      [0.025      0.975]\n",
       "--------------------------------------------------------------------------------------\n",
       "const               1.582e+06    2.9e+04     54.638      0.000    1.53e+06    1.64e+06\n",
       "ar.L1.Weekly_Sales     0.7208      1.458      0.495      0.621      -2.136       3.578\n",
       "ar.L2.Weekly_Sales    -0.0401      0.799     -0.050      0.960      -1.606       1.526\n",
       "ma.L1.Weekly_Sales    -0.4533      1.452     -0.312      0.755      -3.299       2.392\n",
       "ma.L2.Weekly_Sales    -0.0189      0.448     -0.042      0.966      -0.897       0.860\n",
       "                                    Roots                                    \n",
       "=============================================================================\n",
       "                  Real          Imaginary           Modulus         Frequency\n",
       "-----------------------------------------------------------------------------\n",
       "AR.1            1.5149           +0.0000j            1.5149            0.0000\n",
       "AR.2           16.4781           +0.0000j           16.4781            0.0000\n",
       "MA.1            2.0336           +0.0000j            2.0336            0.0000\n",
       "MA.2          -26.0302           +0.0000j           26.0302            0.5000\n",
       "-----------------------------------------------------------------------------\n",
       "\"\"\""
      ]
     },
     "execution_count": 45,
     "metadata": {},
     "output_type": "execute_result"
    }
   ],
   "source": [
    "arima_results.summary()"
   ]
  },
  {
   "cell_type": "code",
   "execution_count": 46,
   "metadata": {},
   "outputs": [
    {
     "data": {
      "image/png": "[encoded data removed]",
      "text/plain": [
       "<Figure size 720x432 with 1 Axes>"
      ]
     },
     "metadata": {
      "needs_background": "light"
     },
     "output_type": "display_data"
    }
   ],
   "source": [
    "arima = ARIMA(endog = y_train.astype(float).dropna(), # endog = Y variable\n",
    "              order = (2,0,2))\n",
    "# Fit ARIMA model.\n",
    "arima_results = arima.fit()\n",
    "\n",
    "# Generate predictions based on test set.\n",
    "preds = arima_results.predict(start = Weekly_Sales['Weekly_Sales'].index[0], end= Weekly_Sales['Weekly_Sales'].index[-1])\n",
    "\n",
    "# Plot data.\n",
    "plt.figure(figsize=(10,6))\n",
    "\n",
    "# Plot training data.\n",
    "plt.plot(y_train.index, pd.DataFrame(y_train), color = 'blue')\n",
    "\n",
    "# Plot testing data.\n",
    "plt.plot(y_test.index, pd.DataFrame(y_test), color = 'orange')\n",
    "\n",
    "# Plot predicted test values.\n",
    "plt.plot(data.index, preds, color = 'green')\n",
    "\n",
    "plt.title(label = 'Weekly Sales with Predictions in Green', fontsize=16)\n",
    "plt.show();"
   ]
  },
  {
   "cell_type": "markdown",
   "metadata": {},
   "source": [
    "**13b. How does our model perform at predicting weekly sales moving forward?** "
   ]
  },
  {
   "cell_type": "markdown",
   "metadata": {},
   "source": [
    "It doesn't do a good job at predicting the fluctuations but it can anticipate the general trend."
   ]
  },
  {
   "cell_type": "markdown",
   "metadata": {},
   "source": [
    "**13c. How might you improve it?**"
   ]
  },
  {
   "cell_type": "markdown",
   "metadata": {},
   "source": [
    "More years of data could help."
   ]
  },
  {
   "cell_type": "markdown",
   "metadata": {},
   "source": [
    "### 14. BONUS: Rolling Predictions\n",
    "\n",
    "**Try testing the performance of your model using rolling predictions. For each testing observation $Y_t$ you should train your model using data up to $Y_{t-1}$. This allows us to make meaningful predictions for all testing observations** "
   ]
  },
  {
   "cell_type": "markdown",
   "metadata": {},
   "source": [
    "Answer:"
   ]
  }
 ],
 "metadata": {
  "kernelspec": {
   "display_name": "Python 3",
   "language": "python",
   "name": "python3"
  },
  "language_info": {
   "codemirror_mode": {
    "name": "ipython",
    "version": 3
   },
   "file_extension": ".py",
   "mimetype": "text/x-python",
   "name": "python",
   "nbconvert_exporter": "python",
   "pygments_lexer": "ipython3",
   "version": "3.7.4"
  }
 },
 "nbformat": 4,
 "nbformat_minor": 2
}
